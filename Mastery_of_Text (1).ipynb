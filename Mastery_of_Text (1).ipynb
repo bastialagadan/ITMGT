{
 "cells": [
  {
   "cell_type": "code",
   "execution_count": 1,
   "id": "c8d79ddb-d23a-45a9-b872-62d9925947d9",
   "metadata": {
    "tags": []
   },
   "outputs": [
    {
     "name": "stdout",
     "output_type": "stream",
     "text": [
      "Number of lines: 99968\n",
      "Number of words: 795227\n",
      "Occurrences of 'apostle': 47\n",
      "Most common word: the\n",
      "Frequency of most common word: 64309\n"
     ]
    }
   ],
   "source": [
    "import urllib.request\n",
    "import re\n",
    "from collections import Counter\n",
    "\n",
    "url = \"https://www.gutenberg.org/cache/epub/10/pg10.txt\"\n",
    "response = urllib.request.urlopen(url)\n",
    "pg10 = response.read().decode(\"utf-8\")\n",
    "\n",
    "\n",
    "line_count = len(pg10.splitlines())\n",
    "\n",
    "words = re.findall(r\"[A-Za-z]+\", pg10)\n",
    "word_count = len(words)\n",
    "\n",
    "\n",
    "apostle_count = sum(1 for word in words if word.lower() == \"apostle\")\n",
    "\n",
    "\n",
    "lowercase_words = [word.lower() for word in words]\n",
    "word_frequencies = Counter(lowercase_words)\n",
    "most_common_word, most_common_count = word_frequencies.most_common(1)[0]\n",
    "\n",
    "\n",
    "print(\"Number of lines:\", line_count)\n",
    "print(\"Number of words:\", word_count)\n",
    "print(\"Occurrences of 'apostle':\", apostle_count)\n",
    "print(\"Most common word:\", most_common_word)\n",
    "print(\"Frequency of most common word:\", most_common_count)"
   ]
  },
  {
   "cell_type": "code",
   "execution_count": null,
   "id": "e1566241-5120-4192-a959-b15978a01d9f",
   "metadata": {},
   "outputs": [],
   "source": []
  }
 ],
 "metadata": {
  "kernelspec": {
   "display_name": "Python 3 (ipykernel)",
   "language": "python",
   "name": "python3"
  },
  "language_info": {
   "codemirror_mode": {
    "name": "ipython",
    "version": 3
   },
   "file_extension": ".py",
   "mimetype": "text/x-python",
   "name": "python",
   "nbconvert_exporter": "python",
   "pygments_lexer": "ipython3",
   "version": "3.11.7"
  }
 },
 "nbformat": 4,
 "nbformat_minor": 5
}
